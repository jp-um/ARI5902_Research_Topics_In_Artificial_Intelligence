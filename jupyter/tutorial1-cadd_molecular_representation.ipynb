{
 "cells": [
  {
   "cell_type": "code",
   "execution_count": 1,
   "metadata": {},
   "outputs": [
    {
     "name": "stdout",
     "output_type": "stream",
     "text": [
      "2024.09.3\n"
     ]
    }
   ],
   "source": [
    "import rdkit # compchem library\n",
    "from rdkit import Chem\n",
    "from rdkit.Chem import AllChem\n",
    "from rdkit.Chem.Draw import IPythonConsole # use this to draw molecules in the notebook\n",
    "print(rdkit.__version__)"
   ]
  },
  {
   "cell_type": "code",
   "execution_count": 2,
   "metadata": {},
   "outputs": [],
   "source": [
    "import py3Dmol # for 3D viz"
   ]
  },
  {
   "cell_type": "code",
   "execution_count": 3,
   "metadata": {},
   "outputs": [
    {
     "data": {
      "image/png": "[encoded data removed]",
      "text/plain": [
       "<rdkit.Chem.rdchem.Mol at 0x79e37c532e30>"
      ]
     },
     "execution_count": 3,
     "metadata": {},
     "output_type": "execute_result"
    }
   ],
   "source": [
    "Chem.MolFromSmiles('[H]O[H]') # a simple molecule, water"
   ]
  },
  {
   "cell_type": "markdown",
   "metadata": {},
   "source": [
    "# A More Complex Example - Coffee (Caffeine, C8H10N4O2)"
   ]
  },
  {
   "cell_type": "markdown",
   "metadata": {},
   "source": [
    "<img src=\"https://upload.wikimedia.org/wikipedia/commons/thumb/8/8c/Caffeine_structure.svg/1200px-Caffeine_structure.svg.png\" width=\"300\" height=\"300\" alt=\"Image of Caffeine molecule\" />"
   ]
  },
  {
   "cell_type": "code",
   "execution_count": 4,
   "metadata": {},
   "outputs": [
    {
     "data": {
      "image/png": "[encoded data removed]",
      "text/plain": [
       "<rdkit.Chem.rdchem.Mol at 0x79e37c5331b0>"
      ]
     },
     "execution_count": 4,
     "metadata": {},
     "output_type": "execute_result"
    }
   ],
   "source": [
    "# a little more complex example - coffee (caffeine) -\n",
    "Chem.MolFromSmiles(\"CN1C=NC2=C1C(=O)N(C(=O)N2C)C\")"
   ]
  },
  {
   "cell_type": "code",
   "execution_count": 5,
   "metadata": {},
   "outputs": [
    {
     "data": {
      "application/3dmoljs_load.v0": "<div id=\"3dmolviewer_17339183527426095\"  style=\"position: relative; width: 400px; height: 400px;\">\n        <p id=\"3dmolwarning_17339183527426095\" style=\"background-color:#ffcccc;color:black\">3Dmol.js failed to load for some reason.  Please check your browser console for error messages.<br></p>\n        </div>\n<script>\n\nvar loadScriptAsync = function(uri){\n  return new Promise((resolve, reject) => {\n    //this is to ignore the existence of requirejs amd\n    var savedexports, savedmodule;\n    if (typeof exports !== 'undefined') savedexports = exports;\n    else exports = {}\n    if (typeof module !== 'undefined') savedmodule = module;\n    else module = {}\n\n    var tag = document.createElement('script');\n    tag.src = uri;\n    tag.async = true;\n    tag.onload = () => {\n        exports = savedexports;\n        module = savedmodule;\n        resolve();\n    };\n  var firstScriptTag = document.getElementsByTagName('script')[0];\n  firstScriptTag.parentNode.insertBefore(tag, firstScriptTag);\n});\n};\n\nif(typeof $3Dmolpromise === 'undefined') {\n$3Dmolpromise = null;\n  $3Dmolpromise = loadScriptAsync('https://cdnjs.cloudflare.com/ajax/libs/3Dmol/2.4.2/3Dmol-min.js');\n}\n\nvar viewer_17339183527426095 = null;\nvar warn = document.getElementById(\"3dmolwarning_17339183527426095\");\nif(warn) {\n    warn.parentNode.removeChild(warn);\n}\n$3Dmolpromise.then(function() {\nviewer_17339183527426095 = $3Dmol.createViewer(document.getElementById(\"3dmolviewer_17339183527426095\"),{backgroundColor:\"white\"});\nviewer_17339183527426095.zoomTo();\n\tviewer_17339183527426095.addModel(\"\\n     RDKit          3D\\n\\n 24 25  0  0  0  0  0  0  0  0999 V2000\\n    3.2146    0.6887   -0.2303 C   0  0  0  0  0  0  0  0  0  0  0  0\\n    2.1331   -0.2719   -0.2772 N   0  0  0  0  0  0  0  0  0  0  0  0\\n    2.2250   -1.5739   -0.5046 C   0  0  0  0  0  0  0  0  0  0  0  0\\n    0.9839   -2.1129   -0.4643 N   0  0  0  0  0  0  0  0  0  0  0  0\\n    0.1204   -1.1085   -0.2056 C   0  0  0  0  0  0  0  0  0  0  0  0\\n    0.8433    0.0606   -0.0861 C   0  0  0  0  0  0  0  0  0  0  0  0\\n    0.1422    1.2156    0.1807 C   0  0  0  0  0  0  0  0  0  0  0  0\\n    0.7805    2.2914    0.2935 O   0  0  0  0  0  0  0  0  0  0  0  0\\n   -1.1923    1.1502    0.3100 N   0  0  0  0  0  0  0  0  0  0  0  0\\n   -1.9041    0.0216    0.1961 C   0  0  0  0  0  0  0  0  0  0  0  0\\n   -3.1595   -0.0232    0.3205 O   0  0  0  0  0  0  0  0  0  0  0  0\\n   -1.2365   -1.1333   -0.0672 N   0  0  0  0  0  0  0  0  0  0  0  0\\n   -1.9830   -2.3705   -0.1956 C   0  0  0  0  0  0  0  0  0  0  0  0\\n   -1.8955    2.3920    0.5916 C   0  0  0  0  0  0  0  0  0  0  0  0\\n    4.1434    0.1232    0.0582 H   0  0  0  0  0  0  0  0  0  0  0  0\\n    3.3723    1.2339   -1.1736 H   0  0  0  0  0  0  0  0  0  0  0  0\\n    3.0588    1.4328    0.5780 H   0  0  0  0  0  0  0  0  0  0  0  0\\n    3.1727   -2.1034   -0.6928 H   0  0  0  0  0  0  0  0  0  0  0  0\\n   -1.3948   -3.2659    0.1074 H   0  0  0  0  0  0  0  0  0  0  0  0\\n   -2.8185   -2.3082    0.5414 H   0  0  0  0  0  0  0  0  0  0  0  0\\n   -2.4280   -2.5060   -1.1812 H   0  0  0  0  0  0  0  0  0  0  0  0\\n   -2.7546    2.2276    1.2590 H   0  0  0  0  0  0  0  0  0  0  0  0\\n   -2.2175    2.8022   -0.4009 H   0  0  0  0  0  0  0  0  0  0  0  0\\n   -1.2062    3.1376    1.0429 H   0  0  0  0  0  0  0  0  0  0  0  0\\n  1  2  1  0\\n  2  3  1  0\\n  3  4  2  0\\n  4  5  1  0\\n  5  6  2  0\\n  6  7  1  0\\n  7  8  2  0\\n  7  9  1  0\\n  9 10  1  0\\n 10 11  2  0\\n 10 12  1  0\\n 12 13  1  0\\n  9 14  1  0\\n  6  2  1  0\\n 12  5  1  0\\n  1 15  1  0\\n  1 16  1  0\\n  1 17  1  0\\n  3 18  1  0\\n 13 19  1  0\\n 13 20  1  0\\n 13 21  1  0\\n 14 22  1  0\\n 14 23  1  0\\n 14 24  1  0\\nM  END\\n\",\"sdf\");\n\tviewer_17339183527426095.setStyle({\"stick\": {}});\n\tviewer_17339183527426095.setBackgroundColor(\"0xffffff\");\n\tviewer_17339183527426095.zoomTo();\nviewer_17339183527426095.render();\n});\n</script>",
      "text/html": [
       "<div id=\"3dmolviewer_17339183527426095\"  style=\"position: relative; width: 400px; height: 400px;\">\n",
       "        <p id=\"3dmolwarning_17339183527426095\" style=\"background-color:#ffcccc;color:black\">3Dmol.js failed to load for some reason.  Please check your browser console for error messages.<br></p>\n",
       "        </div>\n",
       "<script>\n",
       "\n",
       "var loadScriptAsync = function(uri){\n",
       "  return new Promise((resolve, reject) => {\n",
       "    //this is to ignore the existence of requirejs amd\n",
       "    var savedexports, savedmodule;\n",
       "    if (typeof exports !== 'undefined') savedexports = exports;\n",
       "    else exports = {}\n",
       "    if (typeof module !== 'undefined') savedmodule = module;\n",
       "    else module = {}\n",
       "\n",
       "    var tag = document.createElement('script');\n",
       "    tag.src = uri;\n",
       "    tag.async = true;\n",
       "    tag.onload = () => {\n",
       "        exports = savedexports;\n",
       "        module = savedmodule;\n",
       "        resolve();\n",
       "    };\n",
       "  var firstScriptTag = document.getElementsByTagName('script')[0];\n",
       "  firstScriptTag.parentNode.insertBefore(tag, firstScriptTag);\n",
       "});\n",
       "};\n",
       "\n",
       "if(typeof $3Dmolpromise === 'undefined') {\n",
       "$3Dmolpromise = null;\n",
       "  $3Dmolpromise = loadScriptAsync('https://cdnjs.cloudflare.com/ajax/libs/3Dmol/2.4.2/3Dmol-min.js');\n",
       "}\n",
       "\n",
       "var viewer_17339183527426095 = null;\n",
       "var warn = document.getElementById(\"3dmolwarning_17339183527426095\");\n",
       "if(warn) {\n",
       "    warn.parentNode.removeChild(warn);\n",
       "}\n",
       "$3Dmolpromise.then(function() {\n",
       "viewer_17339183527426095 = $3Dmol.createViewer(document.getElementById(\"3dmolviewer_17339183527426095\"),{backgroundColor:\"white\"});\n",
       "viewer_17339183527426095.zoomTo();\n",
       "\tviewer_17339183527426095.addModel(\"\\n     RDKit          3D\\n\\n 24 25  0  0  0  0  0  0  0  0999 V2000\\n    3.2146    0.6887   -0.2303 C   0  0  0  0  0  0  0  0  0  0  0  0\\n    2.1331   -0.2719   -0.2772 N   0  0  0  0  0  0  0  0  0  0  0  0\\n    2.2250   -1.5739   -0.5046 C   0  0  0  0  0  0  0  0  0  0  0  0\\n    0.9839   -2.1129   -0.4643 N   0  0  0  0  0  0  0  0  0  0  0  0\\n    0.1204   -1.1085   -0.2056 C   0  0  0  0  0  0  0  0  0  0  0  0\\n    0.8433    0.0606   -0.0861 C   0  0  0  0  0  0  0  0  0  0  0  0\\n    0.1422    1.2156    0.1807 C   0  0  0  0  0  0  0  0  0  0  0  0\\n    0.7805    2.2914    0.2935 O   0  0  0  0  0  0  0  0  0  0  0  0\\n   -1.1923    1.1502    0.3100 N   0  0  0  0  0  0  0  0  0  0  0  0\\n   -1.9041    0.0216    0.1961 C   0  0  0  0  0  0  0  0  0  0  0  0\\n   -3.1595   -0.0232    0.3205 O   0  0  0  0  0  0  0  0  0  0  0  0\\n   -1.2365   -1.1333   -0.0672 N   0  0  0  0  0  0  0  0  0  0  0  0\\n   -1.9830   -2.3705   -0.1956 C   0  0  0  0  0  0  0  0  0  0  0  0\\n   -1.8955    2.3920    0.5916 C   0  0  0  0  0  0  0  0  0  0  0  0\\n    4.1434    0.1232    0.0582 H   0  0  0  0  0  0  0  0  0  0  0  0\\n    3.3723    1.2339   -1.1736 H   0  0  0  0  0  0  0  0  0  0  0  0\\n    3.0588    1.4328    0.5780 H   0  0  0  0  0  0  0  0  0  0  0  0\\n    3.1727   -2.1034   -0.6928 H   0  0  0  0  0  0  0  0  0  0  0  0\\n   -1.3948   -3.2659    0.1074 H   0  0  0  0  0  0  0  0  0  0  0  0\\n   -2.8185   -2.3082    0.5414 H   0  0  0  0  0  0  0  0  0  0  0  0\\n   -2.4280   -2.5060   -1.1812 H   0  0  0  0  0  0  0  0  0  0  0  0\\n   -2.7546    2.2276    1.2590 H   0  0  0  0  0  0  0  0  0  0  0  0\\n   -2.2175    2.8022   -0.4009 H   0  0  0  0  0  0  0  0  0  0  0  0\\n   -1.2062    3.1376    1.0429 H   0  0  0  0  0  0  0  0  0  0  0  0\\n  1  2  1  0\\n  2  3  1  0\\n  3  4  2  0\\n  4  5  1  0\\n  5  6  2  0\\n  6  7  1  0\\n  7  8  2  0\\n  7  9  1  0\\n  9 10  1  0\\n 10 11  2  0\\n 10 12  1  0\\n 12 13  1  0\\n  9 14  1  0\\n  6  2  1  0\\n 12  5  1  0\\n  1 15  1  0\\n  1 16  1  0\\n  1 17  1  0\\n  3 18  1  0\\n 13 19  1  0\\n 13 20  1  0\\n 13 21  1  0\\n 14 22  1  0\\n 14 23  1  0\\n 14 24  1  0\\nM  END\\n\",\"sdf\");\n",
       "\tviewer_17339183527426095.setStyle({\"stick\": {}});\n",
       "\tviewer_17339183527426095.setBackgroundColor(\"0xffffff\");\n",
       "\tviewer_17339183527426095.zoomTo();\n",
       "viewer_17339183527426095.render();\n",
       "});\n",
       "</script>"
      ]
     },
     "metadata": {},
     "output_type": "display_data"
    }
   ],
   "source": [
    "m = Chem.AddHs(Chem.MolFromSmiles('CN1C=NC2=C1C(=O)N(C(=O)N2C)C'))\n",
    "AllChem.EmbedMultipleConfs(m ,useExpTorsionAnglePrefs=True, useBasicKnowledge=True)\n",
    "mb = Chem.MolToMolBlock(m)\n",
    "p = py3Dmol.view(width=400,height=400)\n",
    "p.addModel(mb, 'sdf')\n",
    "p.setStyle({'stick':{}})\n",
    "p.setBackgroundColor('0xffffff')\n",
    "p.zoomTo()\n",
    "p.show()"
   ]
  },
  {
   "cell_type": "markdown",
   "metadata": {},
   "source": [
    "# Try some molecules yourself!\n",
    "\n",
    "(Hint: ignore Hydrogen atoms for now)\n",
    "\n",
    "1. Alcohol (Ethanol) <img src=\"https://upload.wikimedia.org/wikipedia/commons/thumb/e/e8/Ethanol-structure.svg/1200px-Ethanol-structure.svg.png\" width=\"200\" height=\"200\" alt=\"Image of Ethanol molecule\" />\n",
    "2. Vitamin C (Ascorbic Acid) <img src=\"https://upload.wikimedia.org/wikipedia/commons/thumb/e/e7/L-Ascorbic_acid.svg/1200px-L-Ascorbic_acid.svg.png\" width=\"200\" height=\"200\" alt=\"Image of Ascorbic Acid molecule\" />\n",
    "3. Cocaine (Benzoylmethylecgonine) <img src=\"https://upload.wikimedia.org/wikipedia/commons/thumb/6/66/Kokain_-_Cocaine.svg/1200px-Kokain_-_Cocaine.svg.png\" width=\"200\" height=\"200\" alt=\"Image of Ascorbic Acid molecule\" />\n",
    "4. Viagra (Sildenafil) <img src=\"https://upload.wikimedia.org/wikipedia/commons/thumb/d/d3/Sildenafil_structure.svg/250px-Sildenafil_structure.svg.png\" width=\"200\" height=\"200\" alt=\"Image of Ascorbic Acid molecule\" />\n",
    "\n"
   ]
  },
  {
   "cell_type": "code",
   "execution_count": 6,
   "metadata": {},
   "outputs": [
    {
     "data": {
      "application/3dmoljs_load.v0": "<div id=\"3dmolviewer_17339183527454636\"  style=\"position: relative; width: 640px; height: 480px;\">\n        <p id=\"3dmolwarning_17339183527454636\" style=\"background-color:#ffcccc;color:black\">3Dmol.js failed to load for some reason.  Please check your browser console for error messages.<br></p>\n        </div>\n<script>\n\nvar loadScriptAsync = function(uri){\n  return new Promise((resolve, reject) => {\n    //this is to ignore the existence of requirejs amd\n    var savedexports, savedmodule;\n    if (typeof exports !== 'undefined') savedexports = exports;\n    else exports = {}\n    if (typeof module !== 'undefined') savedmodule = module;\n    else module = {}\n\n    var tag = document.createElement('script');\n    tag.src = uri;\n    tag.async = true;\n    tag.onload = () => {\n        exports = savedexports;\n        module = savedmodule;\n        resolve();\n    };\n  var firstScriptTag = document.getElementsByTagName('script')[0];\n  firstScriptTag.parentNode.insertBefore(tag, firstScriptTag);\n});\n};\n\nif(typeof $3Dmolpromise === 'undefined') {\n$3Dmolpromise = null;\n  $3Dmolpromise = loadScriptAsync('https://cdnjs.cloudflare.com/ajax/libs/3Dmol/2.4.2/3Dmol-min.js');\n}\n\nvar viewer_17339183527454636 = null;\nvar warn = document.getElementById(\"3dmolwarning_17339183527454636\");\nif(warn) {\n    warn.parentNode.removeChild(warn);\n}\n$3Dmolpromise.then(function() {\nviewer_17339183527454636 = $3Dmol.createViewer(document.getElementById(\"3dmolviewer_17339183527454636\"),{backgroundColor:\"white\"});\n$3Dmol.download(\"pdb:1pwc\", viewer_17339183527454636, {\"multimodel\": true}, function() {\nviewer_17339183527454636.zoomTo();\n\tviewer_17339183527454636.setStyle({\"chain\": \"A\"},{\"stick\": {\"color\": \"spectrum\"}});\nviewer_17339183527454636.render();\n})\n});\n</script>",
      "text/html": [
       "<div id=\"3dmolviewer_17339183527454636\"  style=\"position: relative; width: 640px; height: 480px;\">\n",
       "        <p id=\"3dmolwarning_17339183527454636\" style=\"background-color:#ffcccc;color:black\">3Dmol.js failed to load for some reason.  Please check your browser console for error messages.<br></p>\n",
       "        </div>\n",
       "<script>\n",
       "\n",
       "var loadScriptAsync = function(uri){\n",
       "  return new Promise((resolve, reject) => {\n",
       "    //this is to ignore the existence of requirejs amd\n",
       "    var savedexports, savedmodule;\n",
       "    if (typeof exports !== 'undefined') savedexports = exports;\n",
       "    else exports = {}\n",
       "    if (typeof module !== 'undefined') savedmodule = module;\n",
       "    else module = {}\n",
       "\n",
       "    var tag = document.createElement('script');\n",
       "    tag.src = uri;\n",
       "    tag.async = true;\n",
       "    tag.onload = () => {\n",
       "        exports = savedexports;\n",
       "        module = savedmodule;\n",
       "        resolve();\n",
       "    };\n",
       "  var firstScriptTag = document.getElementsByTagName('script')[0];\n",
       "  firstScriptTag.parentNode.insertBefore(tag, firstScriptTag);\n",
       "});\n",
       "};\n",
       "\n",
       "if(typeof $3Dmolpromise === 'undefined') {\n",
       "$3Dmolpromise = null;\n",
       "  $3Dmolpromise = loadScriptAsync('https://cdnjs.cloudflare.com/ajax/libs/3Dmol/2.4.2/3Dmol-min.js');\n",
       "}\n",
       "\n",
       "var viewer_17339183527454636 = null;\n",
       "var warn = document.getElementById(\"3dmolwarning_17339183527454636\");\n",
       "if(warn) {\n",
       "    warn.parentNode.removeChild(warn);\n",
       "}\n",
       "$3Dmolpromise.then(function() {\n",
       "viewer_17339183527454636 = $3Dmol.createViewer(document.getElementById(\"3dmolviewer_17339183527454636\"),{backgroundColor:\"white\"});\n",
       "$3Dmol.download(\"pdb:1pwc\", viewer_17339183527454636, {\"multimodel\": true}, function() {\n",
       "viewer_17339183527454636.zoomTo();\n",
       "\tviewer_17339183527454636.setStyle({\"chain\": \"A\"},{\"stick\": {\"color\": \"spectrum\"}});\n",
       "viewer_17339183527454636.render();\n",
       "})\n",
       "});\n",
       "</script>"
      ]
     },
     "metadata": {},
     "output_type": "display_data"
    },
    {
     "data": {
      "text/plain": [
       "<py3Dmol.view at 0x79e37c4f4e10>"
      ]
     },
     "execution_count": 6,
     "metadata": {},
     "output_type": "execute_result"
    }
   ],
   "source": [
    "# Proteins are much larger complexes, sometimes called macromolecules\n",
    "view = py3Dmol.view(query='pdb:1pwc', options={'multimodel':True})\n",
    "view.setStyle({'chain':'A'}, {'stick':{'color':'spectrum'}})\n",
    "#view.addSurface(\"VDW\", {'opacity': 0.6});\n",
    "view"
   ]
  },
  {
   "cell_type": "markdown",
   "metadata": {},
   "source": [
    "Now have a look at __penicillin__ (a famous antibacterial) discovered accidentally by Sir Alexander Fleming."
   ]
  },
  {
   "cell_type": "code",
   "execution_count": 7,
   "metadata": {},
   "outputs": [
    {
     "data": {
      "application/3dmoljs_load.v0": "<div id=\"3dmolviewer_17339183527528472\"  style=\"position: relative; width: 640px; height: 480px;\">\n        <p id=\"3dmolwarning_17339183527528472\" style=\"background-color:#ffcccc;color:black\">3Dmol.js failed to load for some reason.  Please check your browser console for error messages.<br></p>\n        </div>\n<script>\n\nvar loadScriptAsync = function(uri){\n  return new Promise((resolve, reject) => {\n    //this is to ignore the existence of requirejs amd\n    var savedexports, savedmodule;\n    if (typeof exports !== 'undefined') savedexports = exports;\n    else exports = {}\n    if (typeof module !== 'undefined') savedmodule = module;\n    else module = {}\n\n    var tag = document.createElement('script');\n    tag.src = uri;\n    tag.async = true;\n    tag.onload = () => {\n        exports = savedexports;\n        module = savedmodule;\n        resolve();\n    };\n  var firstScriptTag = document.getElementsByTagName('script')[0];\n  firstScriptTag.parentNode.insertBefore(tag, firstScriptTag);\n});\n};\n\nif(typeof $3Dmolpromise === 'undefined') {\n$3Dmolpromise = null;\n  $3Dmolpromise = loadScriptAsync('https://cdnjs.cloudflare.com/ajax/libs/3Dmol/2.4.2/3Dmol-min.js');\n}\n\nvar viewer_17339183527528472 = null;\nvar warn = document.getElementById(\"3dmolwarning_17339183527528472\");\nif(warn) {\n    warn.parentNode.removeChild(warn);\n}\n$3Dmolpromise.then(function() {\nviewer_17339183527528472 = $3Dmol.createViewer(document.getElementById(\"3dmolviewer_17339183527528472\"),{backgroundColor:\"white\"});\n$3Dmol.download(\"pdb:1pwc\", viewer_17339183527528472, {}, function() {\nviewer_17339183527528472.zoomTo();\n\tviewer_17339183527528472.setStyle({\"chain\": \"A\"},{\"stick\": {}});\n\tviewer_17339183527528472.setStyle({\"resn\": \"PNM\"},{\"stick\": {\"colorscheme\": \"yellowCarbon\"}});\n\tviewer_17339183527528472.addSurface(\"VDW\",{\"opacity\": 0.9},{\"hetflag\": false});\n\tviewer_17339183527528472.zoomTo({\"resn\": \"PNM\"});\nviewer_17339183527528472.render();\n})\n});\n</script>",
      "text/html": [
       "<div id=\"3dmolviewer_17339183527528472\"  style=\"position: relative; width: 640px; height: 480px;\">\n",
       "        <p id=\"3dmolwarning_17339183527528472\" style=\"background-color:#ffcccc;color:black\">3Dmol.js failed to load for some reason.  Please check your browser console for error messages.<br></p>\n",
       "        </div>\n",
       "<script>\n",
       "\n",
       "var loadScriptAsync = function(uri){\n",
       "  return new Promise((resolve, reject) => {\n",
       "    //this is to ignore the existence of requirejs amd\n",
       "    var savedexports, savedmodule;\n",
       "    if (typeof exports !== 'undefined') savedexports = exports;\n",
       "    else exports = {}\n",
       "    if (typeof module !== 'undefined') savedmodule = module;\n",
       "    else module = {}\n",
       "\n",
       "    var tag = document.createElement('script');\n",
       "    tag.src = uri;\n",
       "    tag.async = true;\n",
       "    tag.onload = () => {\n",
       "        exports = savedexports;\n",
       "        module = savedmodule;\n",
       "        resolve();\n",
       "    };\n",
       "  var firstScriptTag = document.getElementsByTagName('script')[0];\n",
       "  firstScriptTag.parentNode.insertBefore(tag, firstScriptTag);\n",
       "});\n",
       "};\n",
       "\n",
       "if(typeof $3Dmolpromise === 'undefined') {\n",
       "$3Dmolpromise = null;\n",
       "  $3Dmolpromise = loadScriptAsync('https://cdnjs.cloudflare.com/ajax/libs/3Dmol/2.4.2/3Dmol-min.js');\n",
       "}\n",
       "\n",
       "var viewer_17339183527528472 = null;\n",
       "var warn = document.getElementById(\"3dmolwarning_17339183527528472\");\n",
       "if(warn) {\n",
       "    warn.parentNode.removeChild(warn);\n",
       "}\n",
       "$3Dmolpromise.then(function() {\n",
       "viewer_17339183527528472 = $3Dmol.createViewer(document.getElementById(\"3dmolviewer_17339183527528472\"),{backgroundColor:\"white\"});\n",
       "$3Dmol.download(\"pdb:1pwc\", viewer_17339183527528472, {}, function() {\n",
       "viewer_17339183527528472.zoomTo();\n",
       "\tviewer_17339183527528472.setStyle({\"chain\": \"A\"},{\"stick\": {}});\n",
       "\tviewer_17339183527528472.setStyle({\"resn\": \"PNM\"},{\"stick\": {\"colorscheme\": \"yellowCarbon\"}});\n",
       "\tviewer_17339183527528472.addSurface(\"VDW\",{\"opacity\": 0.9},{\"hetflag\": false});\n",
       "\tviewer_17339183527528472.zoomTo({\"resn\": \"PNM\"});\n",
       "viewer_17339183527528472.render();\n",
       "})\n",
       "});\n",
       "</script>"
      ]
     },
     "metadata": {},
     "output_type": "display_data"
    }
   ],
   "source": [
    "view = py3Dmol.view(query='pdb:1pwc')\n",
    "view.setStyle({'chain':'A'}, {'stick':{}})\n",
    "view.setStyle({'resn':'PNM'}, {'stick':{'colorscheme':'yellowCarbon'}})\n",
    "view.addSurface(\"VDW\", {'opacity': 0.9},{'hetflag':False});\n",
    "view.zoomTo({'resn':'PNM'})\n",
    "view.show()"
   ]
  }
 ],
 "metadata": {
  "kernelspec": {
   "display_name": "Python 3 (ipykernel)",
   "language": "python",
   "name": "python3"
  },
  "language_info": {
   "codemirror_mode": {
    "name": "ipython",
    "version": 3
   },
   "file_extension": ".py",
   "mimetype": "text/x-python",
   "name": "python",
   "nbconvert_exporter": "python",
   "pygments_lexer": "ipython3",
   "version": "3.13.1"
  }
 },
 "nbformat": 4,
 "nbformat_minor": 4
}
